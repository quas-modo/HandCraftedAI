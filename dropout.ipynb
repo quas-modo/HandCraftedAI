{
 "cells": [
  {
   "cell_type": "markdown",
   "source": [
    "Dropout: Dropout 是一种正则化技术，用于防止神经网络的过拟合。它通过在训练过程中随机“丢弃”神经元（即，将其输出设为零）来实现。\n",
    "p：Dropout 概率，即丢弃神经元的概率。默认值为 0.5。"
   ],
   "metadata": {
    "collapsed": false
   },
   "id": "6e693781c7c49684"
  },
  {
   "cell_type": "code",
   "execution_count": null,
   "id": "initial_id",
   "metadata": {
    "collapsed": true
   },
   "outputs": [],
   "source": [
    "import torch\n",
    "import torch.nn as nn\n",
    "\n",
    "class Dropout(nn.Module):\n",
    "    def __init__(self, p=0.5):\n",
    "        super(Dropout, self).__init__()\n",
    "        self.p = p\n",
    "    \n",
    "    def forward(self, x):\n",
    "        if self.training:\n",
    "            mask = (torch.rand(x.shape) > self.p).float().to(x.device)\n",
    "            return x * mask / (1.0 - self.p)\n",
    "        else:\n",
    "            return x\n",
    "        "
   ]
  }
 ],
 "metadata": {
  "kernelspec": {
   "display_name": "Python 3",
   "language": "python",
   "name": "python3"
  },
  "language_info": {
   "codemirror_mode": {
    "name": "ipython",
    "version": 2
   },
   "file_extension": ".py",
   "mimetype": "text/x-python",
   "name": "python",
   "nbconvert_exporter": "python",
   "pygments_lexer": "ipython2",
   "version": "2.7.6"
  }
 },
 "nbformat": 4,
 "nbformat_minor": 5
}
