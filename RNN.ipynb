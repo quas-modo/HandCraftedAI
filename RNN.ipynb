{
 "cells": [
  {
   "cell_type": "code",
   "execution_count": null,
   "id": "initial_id",
   "metadata": {
    "collapsed": true
   },
   "outputs": [],
   "source": [
    "import torch\n",
    "import torch.nn as nn\n",
    "\n",
    "class SimpleRNN(nn.Module):\n",
    "    def __init__(self, input_size, hidden_size, output_size):\n",
    "        super(SimpleRNN, self).__init__()\n",
    "        self.hidden_size = hidden_size\n",
    "        self.embedding = nn.Embedding(input_size, hidden_size)\n",
    "        self.rnn = nn.RNN(hidden_size, hidden_size)\n",
    "        self.fc = nn.Linear(hidden_size, output_size)\n",
    "        \n",
    "    def normal(self, shape, device):\n",
    "        return torch.randn(size=shape, device=device) * 0.01\n",
    "        \n",
    "    def forward(self, input):\n",
    "        embedded = self.embedding(input)\n",
    "        output, hidden = self.rnn(embedded)\n",
    "        output = self.fc(output)\n",
    "        return output, hidden\n",
    "    \n",
    "input_size = 10000  # 假设词汇表大小为10000\n",
    "hidden_size = 256\n",
    "output_size = 100  # 假设输出大小为100\n",
    "\n",
    "model = SimpleRNN(input_size, hidden_size, output_size)"
   ]
  },
  {
   "cell_type": "code",
   "execution_count": null,
   "outputs": [],
   "source": [
    "class SimpleRNN(nn.Module):\n",
    "    def __init__(self, input_size, hidden_size, output_size):\n",
    "        super(SimpleRNN, self).__init__()\n",
    "        self.hidden_size = hidden_size\n",
    "        self.W_hh = self.normal((hidden_size, hidden_size))\n",
    "        self.W_xh = self.normal((input_size, hidden_size))\n",
    "        self.b_h = torch.zeros(hidden_size)\n",
    "        self.W_ho = self.normal((hidden_size, output_size))\n",
    "        self.b_o = torch.zeros(output_size)\n",
    "          \n",
    "    def normal(self, shape, device=torch.cpu):\n",
    "        return torch.randn(size=shape, device=device) * 0.01\n",
    "        \n",
    "    def forward(self, input, hidden):\n",
    "        H = torch.tanh(torch.mm(self.W_xh, input) + torch.mm(self.W_hh, hidden) + self.b_h) \n",
    "        Y = torch.mm(H, self.W_ho) + self.b_o\n",
    "        return Y, H"
   ],
   "metadata": {
    "collapsed": false
   },
   "id": "f5029e9ca8478153"
  }
 ],
 "metadata": {
  "kernelspec": {
   "display_name": "Python 3",
   "language": "python",
   "name": "python3"
  },
  "language_info": {
   "codemirror_mode": {
    "name": "ipython",
    "version": 2
   },
   "file_extension": ".py",
   "mimetype": "text/x-python",
   "name": "python",
   "nbconvert_exporter": "python",
   "pygments_lexer": "ipython2",
   "version": "2.7.6"
  }
 },
 "nbformat": 4,
 "nbformat_minor": 5
}
