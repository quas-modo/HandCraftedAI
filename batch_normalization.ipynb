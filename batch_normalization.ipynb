{
 "cells": [
  {
   "cell_type": "markdown",
   "source": [
    "1. 计算批量均值和方差：\n",
    "对于输入到某一层的每一个小批量数据（Batch），计算其均值和方差\n",
    "2. 标准化：\n",
    "使用批量均值和方差对输入数据进行标准化处理，使其均值为0，方差为1\n",
    "其中，ϵ 是一个很小的常数，用于防止除零错误。\n",
    "3. 缩放和平移：\n",
    "为了保持网络的表达能力，Batch Normalization 引入了两个可学习的参数：缩放参数 γ 和平移参数 β。标准化后的数据再进行缩放和平移"
   ],
   "metadata": {
    "collapsed": false
   },
   "id": "1bb4082361d121e1"
  },
  {
   "cell_type": "code",
   "execution_count": null,
   "id": "initial_id",
   "metadata": {
    "collapsed": true
   },
   "outputs": [],
   "source": [
    "import torch\n",
    "import torch.nn as nn\n",
    "\n",
    "class BatchNormalization(nn.Module):\n",
    "    def __init__(self, num_features, eps=1e-5, momentum=0.1):\n",
    "        super(BatchNormalization, self).__init__()\n",
    "        self.num_features = num_features\n",
    "        self.eps = eps\n",
    "        self.momentum = momentum\n",
    "        \n",
    "        # 初始化gamma和beta\n",
    "        self.gamma = nn.Parameter(torch.ones(num_features))\n",
    "        self.beta = nn.Parameter(torch.zeros(num_features))\n",
    "        \n",
    "        # 初始化running mean和running variance\n",
    "        self.running_mean = torch.zeros(num_features)\n",
    "        self.running_var = torch.ones(num_features)\n",
    "\n",
    "    def forward(self, x):\n",
    "        if self.training:\n",
    "            # 计算batch mean和batch variance\n",
    "            batch_mean = x.mean(dim=0)\n",
    "            batch_var = x.var(dim=0, unbiased=False)\n",
    "            \n",
    "            # 更新running mean和running variance\n",
    "            self.running_mean = (1 - self.momentum) * self.running_mean + self.momentum * batch_mean\n",
    "            self.running_var = (1 - self.momentum) * self.running_var + self.momentum * batch_var\n",
    "            \n",
    "            # 归一化\n",
    "            x_hat = (x - batch_mean) / torch.sqrt(batch_var + self.eps)\n",
    "        else:\n",
    "            # 使用running mean和running variance进行归一化\n",
    "            x_hat = (x - self.running_mean) / torch.sqrt(self.running_var + self.eps)\n",
    "        \n",
    "        # 缩放和平移\n",
    "        y = self.gamma * x_hat + self.beta\n",
    "        return y\n",
    "\n",
    "# 测试Batch Normalization函数\n",
    "if __name__ == \"__main__\":\n",
    "    # 创建一个BatchNormalization层\n",
    "    bn = BatchNormalization(num_features=5)\n",
    "\n",
    "    # 创建一个随机输入张量\n",
    "    x = torch.randn(10, 5)\n",
    "    \n",
    "    # 进行前向传播\n",
    "    y = bn(x)\n",
    "    \n",
    "    # 打印输出\n",
    "    print(\"Input:\\n\", x)\n",
    "    print(\"Output:\\n\", y)\n"
   ]
  }
 ],
 "metadata": {
  "kernelspec": {
   "display_name": "Python 3",
   "language": "python",
   "name": "python3"
  },
  "language_info": {
   "codemirror_mode": {
    "name": "ipython",
    "version": 2
   },
   "file_extension": ".py",
   "mimetype": "text/x-python",
   "name": "python",
   "nbconvert_exporter": "python",
   "pygments_lexer": "ipython2",
   "version": "2.7.6"
  }
 },
 "nbformat": 4,
 "nbformat_minor": 5
}
