{
 "cells": [
  {
   "cell_type": "markdown",
   "source": [
    "# K-means算法步骤：\n",
    "1. 初始化簇中心点（即质心），通常是随机选择数据集中的K个点作为初始质心。\n",
    "2. 分配每个数据点到离其最近的质心。\n",
    "3. 更新质心，新的质心是分配给该簇的所有数据点的平均值。\n",
    "4. 重复步骤2和步骤3，直到质心不再发生显著变化（即收敛）。"
   ],
   "metadata": {
    "collapsed": false
   },
   "id": "1733ffd1ea9853d8"
  },
  {
   "cell_type": "code",
   "execution_count": null,
   "id": "initial_id",
   "metadata": {
    "collapsed": true,
    "is_executing": true
   },
   "outputs": [],
   "source": [
    "import numpy as np\n",
    "\n",
    "def initialize_centroids(X, k):\n",
    "    # 随机选择k个数据点作为初始质心\n",
    "    return X[np.random.choice(X.shape[0], k, replace=False)]\n",
    "\n",
    "def assign_clusters(X, centroids):\n",
    "    # 将每个数据点分配到最近的质心\n",
    "    distances = np.linalg.norm(X[:, np.newaxis] - centroids, axis=2)\n",
    "    return np.argmin(distances, axis=1)\n",
    "\n",
    "def update_centroids(X, labels, k):\n",
    "    # 计算每个簇的平均值作为新的质心\n",
    "    return np.array([X[labels == i].mean(axis=0) for i in range(k)])\n",
    "\n",
    "def kmeans(X, k, max_iters=100, tolerance=1e-4):\n",
    "    # 初始化质心\n",
    "    centroids = initialize_centroids(X, k)\n",
    "    \n",
    "    for i in range(max_iters):\n",
    "        # 分配每个数据点到最近的质心\n",
    "        labels = assign_clusters(X, centroids)\n",
    "        \n",
    "        # 计算新的质心\n",
    "        new_centroids = update_centroids(X, labels, k)\n",
    "        \n",
    "        # 检查质心是否收敛\n",
    "        if np.all(np.abs(new_centroids - centroids) < tolerance):\n",
    "            break\n",
    "        \n",
    "        centroids = new_centroids\n",
    "    \n",
    "    return centroids, labels\n",
    "\n",
    "# 示例数据\n",
    "X = np.vstack([\n",
    "    np.random.randn(50, 2) + np.array([1, 1]),\n",
    "    np.random.randn(50, 2) + np.array([5, 5]),\n",
    "    np.random.randn(50, 2) + np.array([8, 1]),\n",
    "])\n",
    "\n",
    "# 使用手动实现的KMeans\n",
    "k = 3\n",
    "centroids, labels = kmeans(X, k)\n",
    "\n",
    "# 可视化结果\n",
    "import matplotlib.pyplot as plt\n",
    "\n",
    "plt.scatter(X[:, 0], X[:, 1], c=labels, s=50, cmap='viridis')\n",
    "plt.scatter(centroids[:, 0], centroids[:, 1], c='red', s=200, alpha=0.75)\n",
    "plt.show()\n"
   ]
  },
  {
   "cell_type": "code",
   "execution_count": null,
   "outputs": [],
   "source": [],
   "metadata": {
    "collapsed": false,
    "is_executing": true
   },
   "id": "a14b7f03bc027d34"
  }
 ],
 "metadata": {
  "kernelspec": {
   "display_name": "Python 3",
   "language": "python",
   "name": "python3"
  },
  "language_info": {
   "codemirror_mode": {
    "name": "ipython",
    "version": 2
   },
   "file_extension": ".py",
   "mimetype": "text/x-python",
   "name": "python",
   "nbconvert_exporter": "python",
   "pygments_lexer": "ipython2",
   "version": "2.7.6"
  }
 },
 "nbformat": 4,
 "nbformat_minor": 5
}
