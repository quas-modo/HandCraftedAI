{
 "cells": [
  {
   "cell_type": "markdown",
   "source": [
    "1. 一行代码实现1--100之和"
   ],
   "metadata": {
    "collapsed": false
   },
   "id": "d7819c63764ba089"
  },
  {
   "cell_type": "code",
   "execution_count": null,
   "id": "initial_id",
   "metadata": {
    "collapsed": true,
    "is_executing": true
   },
   "outputs": [],
   "source": [
    "result = sum(range(1, 101))"
   ]
  },
  {
   "cell_type": "markdown",
   "source": [
    "2. 写一段自定义异常代码，自定义异常用raise抛出异常"
   ],
   "metadata": {
    "collapsed": false
   },
   "id": "60ee709d2542dcbc"
  },
  {
   "cell_type": "code",
   "execution_count": null,
   "outputs": [],
   "source": [
    "class SelfError(Exception):\n",
    "    def __init__(self, message):\n",
    "        self.message = message\n",
    "        super().__init__(self.message)\n",
    "        \n",
    "def check_value(value):\n",
    "    if value < 0:\n",
    "        raise SelfError(\"值不能为负数！\")\n",
    "    elif value > 100:\n",
    "        raise SelfError(\"值不能大于100！\")\n",
    "    else:\n",
    "        return f\"值是:{value}\"\n",
    "try:\n",
    "    result = check_value(150)\n",
    "    print(result)\n",
    "except SelfError as e:\n",
    "    print(f\"Exception: {e}\")\n",
    "    \n",
    "    "
   ],
   "metadata": {
    "collapsed": false
   },
   "id": "8305bf31f0a311ba"
  },
  {
   "cell_type": "markdown",
   "source": [
    "3. python中交换两个数值"
   ],
   "metadata": {
    "collapsed": false
   },
   "id": "61630140ccf64d06"
  },
  {
   "cell_type": "code",
   "execution_count": null,
   "outputs": [],
   "source": [
    "def swap(x, y):\n",
    "    return y, x"
   ],
   "metadata": {
    "collapsed": false
   },
   "id": "b774d846778525cd"
  },
  {
   "cell_type": "markdown",
   "source": [
    "4. s=\"ajIdjIajfdIjfddd\"去重并从小到大排序输出（set去重，去重转成list,利用sort方法排序，reverse=False是从1倒大排 list是不变数据类型，s.sort时候没有返回值，所以注释的代码写法不正确）"
   ],
   "metadata": {
    "collapsed": false
   },
   "id": "441f222b4838fb10"
  },
  {
   "cell_type": "code",
   "execution_count": null,
   "outputs": [],
   "source": [
    "s = \"ajIdjIajfdIjfddd\"\n",
    "chars = set(s)\n",
    "chars_list = list(chars)\n",
    "chars_list.sort()\n",
    "result = ''.join(chars_list)"
   ],
   "metadata": {
    "collapsed": false
   },
   "id": "e3309109f4284c62"
  },
  {
   "cell_type": "markdown",
   "source": [
    "5. 用lambda函数实现两个数相乘"
   ],
   "metadata": {
    "collapsed": false
   },
   "id": "9c770193c2ca2923"
  },
  {
   "cell_type": "code",
   "execution_count": null,
   "outputs": [],
   "source": [
    "multiply = lambda x, y: x * y\n",
    "result = multiply(5, 10)"
   ],
   "metadata": {
    "collapsed": false
   },
   "id": "546e71fff073e988"
  },
  {
   "cell_type": "markdown",
   "source": [
    "6. 计算编辑距离\n",
    "编辑距离用于衡量两个字符串之间的相似度，是从一个字符串转换到另一个字符串所需的最少操作数。常见的操作包括插入、删除和替换字符。"
   ],
   "metadata": {
    "collapsed": false
   },
   "id": "6db34b47ac3ad967"
  },
  {
   "cell_type": "code",
   "execution_count": null,
   "outputs": [],
   "source": [
    "cols = 6\n",
    "rows= 3\n",
    "arr = [[0] * cols for _ in range(rows)]"
   ],
   "metadata": {
    "collapsed": false
   },
   "id": "b83febc1596b77c5"
  },
  {
   "cell_type": "markdown",
   "source": [
    "7. 实现读取json文件"
   ],
   "metadata": {
    "collapsed": false
   },
   "id": "d56ae9c02a2da507"
  },
  {
   "cell_type": "code",
   "execution_count": null,
   "outputs": [],
   "source": [
    "import json\n",
    "\n",
    "with open('a.json', 'r', encoding='utf-8') as file:\n",
    "    data = json.load(file)\n",
    "\n",
    "print(data)"
   ],
   "metadata": {
    "collapsed": false
   },
   "id": "261c89be973454b6"
  },
  {
   "cell_type": "code",
   "execution_count": null,
   "outputs": [],
   "source": [
    "import csv\n",
    "\n",
    "with open('a.csv', mode='r', encoding='utf-8') as file:\n",
    "    reader = csv.reader(file)\n",
    "    \n",
    "    for row in reader:\n",
    "        print(row)"
   ],
   "metadata": {
    "collapsed": false
   },
   "id": "7779d95c4efbc14d"
  },
  {
   "cell_type": "markdown",
   "source": [],
   "metadata": {
    "collapsed": false
   },
   "id": "d9572a304caf46d9"
  }
 ],
 "metadata": {
  "kernelspec": {
   "display_name": "Python 3",
   "language": "python",
   "name": "python3"
  },
  "language_info": {
   "codemirror_mode": {
    "name": "ipython",
    "version": 2
   },
   "file_extension": ".py",
   "mimetype": "text/x-python",
   "name": "python",
   "nbconvert_exporter": "python",
   "pygments_lexer": "ipython2",
   "version": "2.7.6"
  }
 },
 "nbformat": 4,
 "nbformat_minor": 5
}
