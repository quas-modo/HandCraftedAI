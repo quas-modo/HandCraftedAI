{
 "cells": [
  {
   "cell_type": "code",
   "execution_count": null,
   "id": "initial_id",
   "metadata": {
    "collapsed": true
   },
   "outputs": [],
   "source": [
    "import numpy as np\n",
    "import torch\n",
    "import torch.nn as nn\n",
    "from torchvision import datasets\n",
    "from torchvision import transforms\n",
    "from torch.utils.data.sampler import SubsetRandomSampler\n",
    "\n",
    "device = torch.device('cuda' if torch.cuda.is_available() else 'cpu')\n",
    "\n",
    "class MultiHeadSelfAttention(nn.Module):\n",
    "    def __init__(self, embed_dim, num_heads):\n",
    "        super(MultiHeadSelfAttention, self).__init__()\n",
    "        self.num_heads = num_heads\n",
    "        self.head_dim = embed_dim // num_heads\n",
    "         \n",
    "        self.query = nn.Linear(embed_dim, embed_dim)\n",
    "        self.key = nn.Linear(embed_dim, embed_dim)\n",
    "        self.value = nn.Linear(embed_dim, embed_dim)\n",
    "        self.fc = nn.Linear(embed_dim, embed_dim)\n",
    "     \n",
    "     \n",
    "    def forward(self, x):\n",
    "         batch_size, seq_len, embed_dim = x.size()\n",
    "         \n",
    "         q = self.query(x).view(batch_size, seq_len, self.num_heads, self.head_dim).transpose(1, 2)\n",
    "         k = self.key(x).view(batch_size, seq_len, self.num_heads, self.head_dim).transpose(1, 2)\n",
    "         v = self.value(x).view(batch_size, seq_len, self.num_heads, self.head_dim).transpose(1, 2)\n",
    "         \n",
    "         attn_weights = torch.matmul(q, k.transpose(-2, -1)) / torch.sqrt(torch.tensor(self.head_dim, dtype=torch.float))\n",
    "         attn_weights = torch.softmax(attn_weights, dim=-1)\n",
    "    \n",
    "        # 注意力加权求和\n",
    "         attended_values = torch.matmul(attn_weights, v).transpose(1, 2).contiguous().view(batch_size, seq_len, embed_dim)\n",
    "    \n",
    "        # 经过线性变换和残差连接\n",
    "         x = self.fc(attended_values) + x\n",
    "    \n",
    "         return x"
   ]
  },
  {
   "cell_type": "code",
   "execution_count": null,
   "outputs": [],
   "source": [
    "class MultiHead(nn.Module):\n",
    "    def __init__(self, embed_dim, head_num):\n",
    "        self.embed_dim = embed_dim\n",
    "        self.head_num = head_num\n",
    "        self.head_dim = embed_dim // head_num\n",
    "        self.q = nn.Linear(embed_dim, embed_dim)\n",
    "        self.k = nn.Linear(embed_dim, embed_dim)\n",
    "        self.v = nn.Linear(embed_dim, embed_dim)\n",
    "        self.fc = nn.Linear(embed_dim, embed_dim)\n",
    "    \n",
    "    def forward(self, x):\n",
    "        seq_len, embed_dim = x.size()\n",
    "        q = self.q(x).view(seq_len, self.head_num, self.head_dim).transpose(1, 2)\n",
    "        k = self.k(x).view(seq_len, self.head_num, self.head_dim).transpose(1, 2)\n",
    "        v = self.v(x).view(seq_len, self.head_num, self.head_dim).transpose(1, 2)\n",
    "        \n",
    "        attn_weights = torch.matmul(q, k.transpose(-2, -1)) / torch.sqrt(torch.tensor(self.head_dim))\n",
    "        attn_weights = torch.softmax(attn_weights, dim=-1)\n",
    "        attn_value = torch.matmul(attn_weights, v).transpose(1, 2)\n",
    "        \n",
    "        x = self.fc(attn_value) + x"
   ],
   "metadata": {
    "collapsed": false
   },
   "id": "f4920445baf7a5c"
  }
 ],
 "metadata": {
  "kernelspec": {
   "display_name": "Python 3",
   "language": "python",
   "name": "python3"
  },
  "language_info": {
   "codemirror_mode": {
    "name": "ipython",
    "version": 2
   },
   "file_extension": ".py",
   "mimetype": "text/x-python",
   "name": "python",
   "nbconvert_exporter": "python",
   "pygments_lexer": "ipython2",
   "version": "2.7.6"
  }
 },
 "nbformat": 4,
 "nbformat_minor": 5
}
